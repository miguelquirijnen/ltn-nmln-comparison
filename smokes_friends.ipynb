{
 "cells": [
  {
   "cell_type": "markdown",
   "metadata": {},
   "source": [
    "# Smokes Friends Cancer\n",
    "\n",
    "A classic example of Statistical Relational Learning is the  smokers-friends-cancer example introduced in the [Markov Logic Networks paper (2006)](https://homes.cs.washington.edu/~pedrod/papers/mlj05.pdf).\n",
    "\n",
    "There are 14 people divided into two groups $\\{a,b,\\dots,h\\}$ and $\\{i,j,\\dots,n\\}$. \n",
    "- Within each group, there is complete knowledge about smoking habits. \n",
    "- In the first group, there is complete knowledge about who has and who does not have cancer. \n",
    "- Knowledge about the friendship relation is complete within each group only if symmetry is assumed, that is, $\\forall x,y \\ (friends(x,y) \\rightarrow friends(y,x))$. Otherwise, knowledge about friendship is incomplete in that it may be known that e.g.\\ $a$ is a friend of $b$, and it may be not known whether $b$ is a friend of $a$.\n",
    "- Finally, there is general knowledge about smoking, friendship and cancer, namely that smoking causes cancer, friendship is normally symmetric and anti-reflexive, everyone has a friend, and smoking propagates (actively or passively) among friends. \n",
    "\n",
    "One can formulate this task easily in LTN as follows."
   ]
  },
  {
   "cell_type": "code",
   "execution_count": 1,
   "metadata": {},
   "outputs": [
    {
     "name": "stderr",
     "output_type": "stream",
     "text": [
      "2022-03-16 10:55:17.253964: W tensorflow/stream_executor/platform/default/dso_loader.cc:64] Could not load dynamic library 'libcudart.so.11.0'; dlerror: libcudart.so.11.0: cannot open shared object file: No such file or directory\n",
      "2022-03-16 10:55:17.257663: I tensorflow/stream_executor/cuda/cudart_stub.cc:29] Ignore above cudart dlerror if you do not have a GPU set up on your machine.\n"
     ]
    }
   ],
   "source": [
    "import logging; logging.basicConfig(level=logging.INFO)\n",
    "import math\n",
    "\n",
    "import tensorflow as tf\n",
    "import numpy as np\n",
    "import matplotlib.pyplot as plt\n",
    "import pandas as pd\n",
    "\n",
    "import ltn"
   ]
  },
  {
   "cell_type": "code",
   "execution_count": 2,
   "metadata": {},
   "outputs": [],
   "source": [
    "np.set_printoptions(suppress=True)"
   ]
  },
  {
   "cell_type": "code",
   "execution_count": 3,
   "metadata": {},
   "outputs": [
    {
     "ename": "OptionError",
     "evalue": "'Pattern matched multiple keys'",
     "output_type": "error",
     "traceback": [
      "\u001b[0;31m---------------------------------------------------------------------------\u001b[0m",
      "\u001b[0;31mOptionError\u001b[0m                               Traceback (most recent call last)",
      "\u001b[1;32m/home/miguel/git/ltn-nmln-comparison/smokes_friends.ipynb Cell 4'\u001b[0m in \u001b[0;36m<cell line: 12>\u001b[0;34m()\u001b[0m\n\u001b[1;32m      <a href='vscode-notebook-cell://ssh-remote%2B209.250.254.192/home/miguel/git/ltn-nmln-comparison/smokes_friends.ipynb#ch0000003vscode-remote?line=8'>9</a>\u001b[0m     plt\u001b[39m.\u001b[39mxticks(np\u001b[39m.\u001b[39marange(\u001b[39m0.5\u001b[39m,\u001b[39mlen\u001b[39m(df\u001b[39m.\u001b[39mcolumns),\u001b[39m1\u001b[39m),df\u001b[39m.\u001b[39mcolumns)\n\u001b[1;32m     <a href='vscode-notebook-cell://ssh-remote%2B209.250.254.192/home/miguel/git/ltn-nmln-comparison/smokes_friends.ipynb#ch0000003vscode-remote?line=9'>10</a>\u001b[0m     plt\u001b[39m.\u001b[39mcolorbar()\n\u001b[0;32m---> <a href='vscode-notebook-cell://ssh-remote%2B209.250.254.192/home/miguel/git/ltn-nmln-comparison/smokes_friends.ipynb#ch0000003vscode-remote?line=11'>12</a>\u001b[0m pd\u001b[39m.\u001b[39;49mset_option(\u001b[39m'\u001b[39;49m\u001b[39mprecision\u001b[39;49m\u001b[39m'\u001b[39;49m,\u001b[39m2\u001b[39;49m)\n",
      "File \u001b[0;32m~/.local/lib/python3.9/site-packages/pandas/_config/config.py:256\u001b[0m, in \u001b[0;36mCallableDynamicDoc.__call__\u001b[0;34m(self, *args, **kwds)\u001b[0m\n\u001b[1;32m    <a href='file:///home/miguel/.local/lib/python3.9/site-packages/pandas/_config/config.py?line=254'>255</a>\u001b[0m \u001b[39mdef\u001b[39;00m \u001b[39m__call__\u001b[39m(\u001b[39mself\u001b[39m, \u001b[39m*\u001b[39margs, \u001b[39m*\u001b[39m\u001b[39m*\u001b[39mkwds):\n\u001b[0;32m--> <a href='file:///home/miguel/.local/lib/python3.9/site-packages/pandas/_config/config.py?line=255'>256</a>\u001b[0m     \u001b[39mreturn\u001b[39;00m \u001b[39mself\u001b[39;49m\u001b[39m.\u001b[39;49m\u001b[39m__func__\u001b[39;49m(\u001b[39m*\u001b[39;49margs, \u001b[39m*\u001b[39;49m\u001b[39m*\u001b[39;49mkwds)\n",
      "File \u001b[0;32m~/.local/lib/python3.9/site-packages/pandas/_config/config.py:149\u001b[0m, in \u001b[0;36m_set_option\u001b[0;34m(*args, **kwargs)\u001b[0m\n\u001b[1;32m    <a href='file:///home/miguel/.local/lib/python3.9/site-packages/pandas/_config/config.py?line=145'>146</a>\u001b[0m     \u001b[39mraise\u001b[39;00m \u001b[39mTypeError\u001b[39;00m(\u001b[39mf\u001b[39m\u001b[39m'\u001b[39m\u001b[39m_set_option() got an unexpected keyword argument \u001b[39m\u001b[39m\"\u001b[39m\u001b[39m{\u001b[39;00mkwarg\u001b[39m}\u001b[39;00m\u001b[39m\"\u001b[39m\u001b[39m'\u001b[39m)\n\u001b[1;32m    <a href='file:///home/miguel/.local/lib/python3.9/site-packages/pandas/_config/config.py?line=147'>148</a>\u001b[0m \u001b[39mfor\u001b[39;00m k, v \u001b[39min\u001b[39;00m \u001b[39mzip\u001b[39m(args[::\u001b[39m2\u001b[39m], args[\u001b[39m1\u001b[39m::\u001b[39m2\u001b[39m]):\n\u001b[0;32m--> <a href='file:///home/miguel/.local/lib/python3.9/site-packages/pandas/_config/config.py?line=148'>149</a>\u001b[0m     key \u001b[39m=\u001b[39m _get_single_key(k, silent)\n\u001b[1;32m    <a href='file:///home/miguel/.local/lib/python3.9/site-packages/pandas/_config/config.py?line=150'>151</a>\u001b[0m     o \u001b[39m=\u001b[39m _get_registered_option(key)\n\u001b[1;32m    <a href='file:///home/miguel/.local/lib/python3.9/site-packages/pandas/_config/config.py?line=151'>152</a>\u001b[0m     \u001b[39mif\u001b[39;00m o \u001b[39mand\u001b[39;00m o\u001b[39m.\u001b[39mvalidator:\n",
      "File \u001b[0;32m~/.local/lib/python3.9/site-packages/pandas/_config/config.py:116\u001b[0m, in \u001b[0;36m_get_single_key\u001b[0;34m(pat, silent)\u001b[0m\n\u001b[1;32m    <a href='file:///home/miguel/.local/lib/python3.9/site-packages/pandas/_config/config.py?line=113'>114</a>\u001b[0m     \u001b[39mraise\u001b[39;00m OptionError(\u001b[39mf\u001b[39m\u001b[39m\"\u001b[39m\u001b[39mNo such keys(s): \u001b[39m\u001b[39m{\u001b[39;00m\u001b[39mrepr\u001b[39m(pat)\u001b[39m}\u001b[39;00m\u001b[39m\"\u001b[39m)\n\u001b[1;32m    <a href='file:///home/miguel/.local/lib/python3.9/site-packages/pandas/_config/config.py?line=114'>115</a>\u001b[0m \u001b[39mif\u001b[39;00m \u001b[39mlen\u001b[39m(keys) \u001b[39m>\u001b[39m \u001b[39m1\u001b[39m:\n\u001b[0;32m--> <a href='file:///home/miguel/.local/lib/python3.9/site-packages/pandas/_config/config.py?line=115'>116</a>\u001b[0m     \u001b[39mraise\u001b[39;00m OptionError(\u001b[39m\"\u001b[39m\u001b[39mPattern matched multiple keys\u001b[39m\u001b[39m\"\u001b[39m)\n\u001b[1;32m    <a href='file:///home/miguel/.local/lib/python3.9/site-packages/pandas/_config/config.py?line=116'>117</a>\u001b[0m key \u001b[39m=\u001b[39m keys[\u001b[39m0\u001b[39m]\n\u001b[1;32m    <a href='file:///home/miguel/.local/lib/python3.9/site-packages/pandas/_config/config.py?line=118'>119</a>\u001b[0m \u001b[39mif\u001b[39;00m \u001b[39mnot\u001b[39;00m silent:\n",
      "\u001b[0;31mOptionError\u001b[0m: 'Pattern matched multiple keys'"
     ]
    }
   ],
   "source": [
    "pd.options.display.max_rows=999\n",
    "pd.options.display.max_columns=999\n",
    "pd.set_option('display.width',1000)\n",
    "pd.options.display.float_format = '{:,.2f}'.format\n",
    "\n",
    "def plt_heatmap(df, vmin=None, vmax=None):\n",
    "    plt.pcolor(df, vmin=vmin, vmax=vmax)\n",
    "    plt.yticks(np.arange(0.5,len(df.index),1),df.index)\n",
    "    plt.xticks(np.arange(0.5,len(df.columns),1),df.columns)\n",
    "    plt.colorbar()\n",
    "    \n",
    "pd.set_option('precision',2)"
   ]
  },
  {
   "cell_type": "markdown",
   "metadata": {},
   "source": [
    "# Language\n",
    "\n",
    "- LTN constants are used to denote the individuals. Each is grounded as a trainable embedding.\n",
    "- The `Smokes`, `Friends`, `Cancer` predicates are grounded as simple MLPs.\n",
    "- All the rules in the preamble are formulate in the knowledgebase."
   ]
  },
  {
   "cell_type": "code",
   "execution_count": 4,
   "metadata": {},
   "outputs": [
    {
     "name": "stderr",
     "output_type": "stream",
     "text": [
      "2022-03-16 10:57:45.117007: W tensorflow/stream_executor/platform/default/dso_loader.cc:64] Could not load dynamic library 'libcuda.so.1'; dlerror: libcuda.so.1: cannot open shared object file: No such file or directory\n",
      "2022-03-16 10:57:45.121787: W tensorflow/stream_executor/cuda/cuda_driver.cc:269] failed call to cuInit: UNKNOWN ERROR (303)\n",
      "2022-03-16 10:57:45.124910: I tensorflow/stream_executor/cuda/cuda_diagnostics.cc:156] kernel driver does not appear to be running on this host (mordor): /proc/driver/nvidia/version does not exist\n",
      "2022-03-16 10:57:45.187244: I tensorflow/core/platform/cpu_feature_guard.cc:151] This TensorFlow binary is optimized with oneAPI Deep Neural Network Library (oneDNN) to use the following CPU instructions in performance-critical operations:  AVX2 FMA\n",
      "To enable them in other operations, rebuild TensorFlow with the appropriate compiler flags.\n"
     ]
    }
   ],
   "source": [
    "embedding_size = 5\n",
    "\n",
    "g1 = {l:ltn.Constant(np.random.uniform(low=0.0,high=1.0,size=embedding_size),trainable=True) for l in 'abcdefgh'}\n",
    "g2 = {l:ltn.Constant(np.random.uniform(low=0.0,high=1.0,size=embedding_size),trainable=True) for l in 'ijklmn'}\n",
    "g = {**g1,**g2}"
   ]
  },
  {
   "cell_type": "code",
   "execution_count": 5,
   "metadata": {},
   "outputs": [],
   "source": [
    "Smokes = ltn.Predicate.MLP([embedding_size],hidden_layer_sizes=(8,8))\n",
    "Friends = ltn.Predicate.MLP([embedding_size,embedding_size],hidden_layer_sizes=(8,8))"
   ]
  },
  {
   "cell_type": "code",
   "execution_count": 6,
   "metadata": {},
   "outputs": [],
   "source": [
    "friends = [('a','b'), ('b','a'), ('b','c'), ('c','b'), ('c','d'),\n",
    "  ('d','c'), ('a','e'), ('e','a'), ('e','f'), ('f','e'),\n",
    "  ('f','a'), ('a','f'),('g','h'),('h','g'),('h','i'),\n",
    "  ('i','h'),('i','j'),('j','i'),('k','l'),('l','k'),('m','i'),\n",
    "  ('g','a'),('a','g'),('n','m'),('i','m'),('m','n')]\n",
    "smokes = ['a','e','f','g','i','n']\n"
   ]
  },
  {
   "cell_type": "code",
   "execution_count": 7,
   "metadata": {},
   "outputs": [],
   "source": [
    "Not = ltn.Wrapper_Connective(ltn.fuzzy_ops.Not_Std())\n",
    "And = ltn.Wrapper_Connective(ltn.fuzzy_ops.And_Prod())\n",
    "Or = ltn.Wrapper_Connective(ltn.fuzzy_ops.Or_ProbSum())\n",
    "Implies = ltn.Wrapper_Connective(ltn.fuzzy_ops.Implies_Reichenbach())\n",
    "Forall = ltn.Wrapper_Quantifier(ltn.fuzzy_ops.Aggreg_pMeanError(p=2),semantics=\"forall\")\n",
    "Exists = ltn.Wrapper_Quantifier(ltn.fuzzy_ops.Aggreg_pMean(p=6),semantics=\"exists\")\n",
    "\n",
    "formula_aggregator = ltn.Wrapper_Formula_Aggregator(ltn.fuzzy_ops.Aggreg_pMeanError())"
   ]
  },
  {
   "cell_type": "markdown",
   "metadata": {},
   "source": [
    "Notice that the knowledge-base is not satisfiable in the strict logical sense of the word.\n",
    "For instance, the individual $f$ is said to smoke but not to have cancer, which is inconsistent with the rule $\\forall x \\ (S(x) \\rightarrow C(x))$.\n",
    "Hence, it is important to adopt a probabilistic approach as done with MLN or a many-valued fuzzy logic interpretation as done with LTN."
   ]
  },
  {
   "cell_type": "code",
   "execution_count": 8,
   "metadata": {},
   "outputs": [],
   "source": [
    "# defining the theory\n",
    "@tf.function\n",
    "def axioms(p_exists):\n",
    "    \"\"\"\n",
    "    NOTE: we update the embeddings at each step\n",
    "        -> we should re-compute the variables.\n",
    "    \"\"\"\n",
    "    p = ltn.Variable.from_constants(\"p\",list(g.values()))\n",
    "    q = ltn.Variable.from_constants(\"q\",list(g.values()))\n",
    "    axioms = []\n",
    "    # Friends: knowledge incomplete in that\n",
    "    #     Friend(x,y) with x<y may be known\n",
    "    #     but Friend(y,x) may not be known\n",
    "\n",
    "    axioms.append(formula_aggregator(\n",
    "            [Friends([g[x],g[y]]) for (x,y) in friends]))\n",
    "    axioms.append(formula_aggregator(\n",
    "            [Not(Friends([g[x],g[y]])) for x in g1 for y in g1 if (x,y) not in friends and x<y ]+\\\n",
    "            [Not(Friends([g[x],g[y]])) for x in g2 for y in g2 if (x,y) not in friends and x<y ]))\n",
    "    # Smokes: knowledge complete\n",
    "    axioms.append(formula_aggregator(\n",
    "            [Smokes(g[x]) for x in smokes]))\n",
    "    axioms.append(formula_aggregator(\n",
    "            [Not(Smokes(g[x])) for x in g if x not in smokes]))\n",
    "    # friendship is anti-reflexive\n",
    "    axioms.append(Forall(p,Not(Friends([p,p])),p=5))\n",
    "    # friendship is symmetric\n",
    "    axioms.append(Forall((p,q),Implies(Friends([p,q]),Friends([q,p])),p=5))\n",
    "    # everyone has a friend\n",
    "    axioms.append(Forall(p,Exists(q,Friends([p,q]),p=p_exists)))\n",
    "    # smoking propagates among friends\n",
    "    axioms.append(Forall((p,q),Implies(And(Friends([p,q]),Smokes(p)),Smokes(q))))\n",
    "    # computing sat_level\n",
    "    sat_level = formula_aggregator(axioms).tensor\n",
    "    return sat_level"
   ]
  },
  {
   "cell_type": "code",
   "execution_count": 9,
   "metadata": {},
   "outputs": [
    {
     "name": "stderr",
     "output_type": "stream",
     "text": [
      "/home/miguel/.local/lib/python3.9/site-packages/tensorflow/python/autograph/impl/api.py:371: UserWarning: No instance of <class 'tensorflow.python.eager.backprop.GradientTape'> passed in argument when creating a LTN variable from constants. LTN cannot verify that a tape is recording. If you created the variable within the scope of a tape, or that you don't need to track weights (e.g. non-trainable constants), you can ignore this warning.\n",
      "  return py_builtins.overload_of(f)(*args)\n"
     ]
    },
    {
     "data": {
      "text/plain": [
       "<tf.Tensor: shape=(), dtype=float32, numpy=0.5393412>"
      ]
     },
     "execution_count": 9,
     "metadata": {},
     "output_type": "execute_result"
    }
   ],
   "source": [
    "axioms(p_exists=tf.constant(1.))"
   ]
  },
  {
   "cell_type": "markdown",
   "metadata": {},
   "source": [
    "# Training"
   ]
  },
  {
   "cell_type": "code",
   "execution_count": 10,
   "metadata": {},
   "outputs": [
    {
     "name": "stdout",
     "output_type": "stream",
     "text": [
      "Epoch 0: Sat Level 0.540\n",
      "Epoch 200: Sat Level 0.633\n",
      "Epoch 400: Sat Level 0.753\n",
      "Epoch 600: Sat Level 0.843\n",
      "Epoch 800: Sat Level 0.887\n",
      "Epoch 1000: Sat Level 0.892\n",
      "Epoch 1200: Sat Level 0.893\n",
      "Epoch 1400: Sat Level 0.894\n",
      "Epoch 1600: Sat Level 0.894\n",
      "Epoch 1800: Sat Level 0.894\n",
      "Training finished at Epoch 1999 with Sat Level 0.894\n"
     ]
    }
   ],
   "source": [
    "trainable_variables = \\\n",
    "        Smokes.trainable_variables \\\n",
    "        + Friends.trainable_variables \\\n",
    "        + ltn.as_tensors(list(g.values()))\n",
    "optimizer = tf.keras.optimizers.Adam(learning_rate=0.001)\n",
    "\n",
    "for epoch in range(2000):\n",
    "    if 0 <= epoch < 400:\n",
    "        p_exists = tf.constant(1.)\n",
    "    else:\n",
    "        p_exists = tf.constant(6.)\n",
    "    with tf.GradientTape() as tape:\n",
    "        loss_value = 1. - axioms(p_exists=p_exists)\n",
    "    grads = tape.gradient(loss_value, trainable_variables)\n",
    "    optimizer.apply_gradients(zip(grads, trainable_variables))\n",
    "    if epoch%200 == 0:\n",
    "        print(\"Epoch %d: Sat Level %.3f\"%(epoch, axioms(p_exists=p_exists)))\n",
    "print(\"Training finished at Epoch %d with Sat Level %.3f\"%(epoch, axioms(p_exists=p_exists)))"
   ]
  },
  {
   "cell_type": "markdown",
   "metadata": {},
   "source": [
    "# Results\n"
   ]
  },
  {
   "cell_type": "code",
   "execution_count": 11,
   "metadata": {},
   "outputs": [
    {
     "name": "stderr",
     "output_type": "stream",
     "text": [
      "/home/miguel/git/logictensornetworks/ltn/core.py:84: UserWarning: No instance of <class 'tensorflow.python.eager.backprop.GradientTape'> passed in argument when creating a LTN variable from constants. LTN cannot verify that a tape is recording. If you created the variable within the scope of a tape, or that you don't need to track weights (e.g. non-trainable constants), you can ignore this warning.\n",
      "  warnings.warn(\"No instance of %s passed in argument when creating a LTN variable from constants. \"\\\n"
     ]
    }
   ],
   "source": [
    "\n",
    "df_friends_ah_facts = pd.DataFrame(\n",
    "        np.array([[((x,y) in friends) if x<y else math.nan for x in g1] for y in g1]),\n",
    "        index = list('abcdefgh'),\n",
    "        columns = list('abcdefgh'))\n",
    "df_friends_in_facts = pd.DataFrame(\n",
    "        np.array([[((x,y) in friends) if x<y else math.nan for x in g2] for y in g2]),\n",
    "        index = list('ijklmn'),\n",
    "        columns = list('ijklmn'))\n",
    "\n",
    "p = ltn.Variable.from_constants(\"p\",list(g.values()))\n",
    "q = ltn.Variable.from_constants(\"q\",list(g.values()))\n",
    "\n",
    "\n",
    "pred_friends = Friends([p,q]).tensor\n",
    "df_friends_ah = pd.DataFrame(\n",
    "        pred_friends[:8,:8].numpy(),\n",
    "        index=list('abcdefgh'),\n",
    "        columns=list('abcdefgh'))\n",
    "df_friends_in = pd.DataFrame(\n",
    "        pred_friends[8:,8:].numpy(),\n",
    "        index=list('ijklmn'),\n",
    "        columns=list('ijklmn'))"
   ]
  },
  {
   "cell_type": "code",
   "execution_count": 12,
   "metadata": {},
   "outputs": [],
   "source": [
    "plt.rcParams['font.size'] = 12\n",
    "plt.rcParams['axes.linewidth'] = 1"
   ]
  },
  {
   "cell_type": "markdown",
   "metadata": {},
   "source": [
    "Incomplete facts in the knowledge-base: axioms for smokers for individuals $a$ to $n$ and for cancer for individuals $a$ to $h$ (left), friendship relations in group 1 (middle), and friendship relations in group 2 (right)."
   ]
  },
  {
   "cell_type": "code",
   "execution_count": 14,
   "metadata": {},
   "outputs": [
    {
     "data": {
      "image/png": "[encoded data removed]",
      "text/plain": [
       "<Figure size 864x216 with 4 Axes>"
      ]
     },
     "metadata": {
      "needs_background": "light"
     },
     "output_type": "display_data"
    }
   ],
   "source": [
    "plt.figure(figsize=(12,3))\n",
    "# plt.subplot(131)\n",
    "# plt_heatmap(df_smokes_cancer_facts, vmin=0, vmax=1)\n",
    "plt.subplot(132)\n",
    "plt.title(\"Friend(x,y) in Group 1\")\n",
    "plt_heatmap(df_friends_ah_facts, vmin=0, vmax=1)\n",
    "plt.subplot(133)\n",
    "plt.title(\"Friend(x,y) in Group 2\")\n",
    "plt_heatmap(df_friends_in_facts, vmin=0, vmax=1)\n",
    "#plt.savefig('ex_smokes_givenfacts.pdf')\n",
    "plt.show()"
   ]
  },
  {
   "cell_type": "markdown",
   "metadata": {},
   "source": [
    "Querying all the truth-values using LTN after training: smokers and cancer (left), friendship relations (middle and right)."
   ]
  },
  {
   "cell_type": "code",
   "execution_count": 15,
   "metadata": {},
   "outputs": [
    {
     "data": {
      "image/png": "[encoded data removed]",
      "text/plain": [
       "<Figure size 864x216 with 4 Axes>"
      ]
     },
     "metadata": {
      "needs_background": "light"
     },
     "output_type": "display_data"
    }
   ],
   "source": [
    "plt.figure(figsize=(12,3))\n",
    "# plt.subplot(131)\n",
    "# plt_heatmap(df_smokes_cancer, vmin=0, vmax=1)\n",
    "plt.subplot(132)\n",
    "plt.title(\"Friend(x,y) in Group 1\")\n",
    "plt_heatmap(df_friends_ah, vmin=0, vmax=1)\n",
    "plt.subplot(133)\n",
    "plt.title(\"Friend(x,y) in Group 2\")\n",
    "plt_heatmap(df_friends_in, vmin=0, vmax=1)\n",
    "#plt.savefig('ex_smokes_inferfacts.pdf')\n",
    "plt.show()"
   ]
  },
  {
   "cell_type": "markdown",
   "metadata": {},
   "source": [
    "Satisfiability of the axioms."
   ]
  },
  {
   "cell_type": "code",
   "execution_count": 19,
   "metadata": {},
   "outputs": [
    {
     "name": "stdout",
     "output_type": "stream",
     "text": [
      "forall p: ~Friends(p,p) : 1.00\n",
      "forall p,q: Friends(p,q) -> Friends(q,p) : 0.99\n",
      "forall p: exists q: Friends(p,q) : 0.79\n",
      "forall p,q: Friends(p,q) -> (Smokes(p)->Smokes(q)) : 0.80\n"
     ]
    }
   ],
   "source": [
    "print(\"forall p: ~Friends(p,p) : %.2f\" % Forall(p,Not(Friends([p,p]))).tensor)\n",
    "print(\"forall p,q: Friends(p,q) -> Friends(q,p) : %.2f\" % Forall((p,q),Implies(Friends([p,q]),Friends([q,p]))).tensor)\n",
    "print(\"forall p: exists q: Friends(p,q) : %.2f\" % Forall(p,Exists(q,Friends([p,q]))).tensor)\n",
    "print(\"forall p,q: Friends(p,q) -> (Smokes(p)->Smokes(q)) : %.2f\" % Forall((p,q),Implies(Friends([p,q]),Implies(Smokes(p),Smokes(q)))).tensor)\n",
    "# print(\"forall p: Smokes(p) -> Cancer(p) : %.2f\" % Forall(p,Implies(Smokes(p),Cancer(p))).tensor)"
   ]
  },
  {
   "cell_type": "markdown",
   "metadata": {},
   "source": [
    "We can query unknown formulas."
   ]
  },
  {
   "cell_type": "code",
   "execution_count": 18,
   "metadata": {},
   "outputs": [
    {
     "name": "stdout",
     "output_type": "stream",
     "text": [
      "forall p: Cancer(p) -> Smokes(p): 0.96\n",
      "forall p,q: (Cancer(p) or Cancer(q)) -> Friends(p,q): 0.22\n"
     ]
    }
   ],
   "source": [
    "print(\"forall p: Cancer(p) -> Smokes(p): %.2f\" % Forall(p,Implies(Cancer(p),Smokes(p)),p=5).tensor)\n",
    "print(\"forall p,q: (Cancer(p) or Cancer(q)) -> Friends(p,q): %.2f\" % Forall((p,q), Implies(Or(Cancer(p),Cancer(q)),Friends([p,q])),p=5).tensor)"
   ]
  },
  {
   "cell_type": "markdown",
   "metadata": {},
   "source": [
    "# Visualize the embeddings"
   ]
  },
  {
   "cell_type": "code",
   "execution_count": 20,
   "metadata": {},
   "outputs": [],
   "source": [
    "from sklearn.preprocessing import StandardScaler\n",
    "from sklearn.decomposition import PCA"
   ]
  },
  {
   "cell_type": "code",
   "execution_count": 21,
   "metadata": {},
   "outputs": [],
   "source": [
    "x = [c.tensor.numpy() for c in g.values()]\n",
    "x_norm = StandardScaler().fit_transform(x)"
   ]
  },
  {
   "cell_type": "code",
   "execution_count": 22,
   "metadata": {},
   "outputs": [],
   "source": [
    "pca = PCA(n_components=2)\n",
    "pca_transformed = pca.fit_transform(x_norm)"
   ]
  },
  {
   "cell_type": "code",
   "execution_count": 23,
   "metadata": {},
   "outputs": [],
   "source": [
    "var_x = ltn.Variable(\"x\",x)\n",
    "var_x1 = ltn.Variable(\"x1\",x)\n",
    "var_x2 = ltn.Variable(\"x2\",x)"
   ]
  },
  {
   "cell_type": "code",
   "execution_count": 26,
   "metadata": {},
   "outputs": [
    {
     "data": {
      "image/png": "[encoded data removed]",
      "text/plain": [
       "<Figure size 576x360 with 4 Axes>"
      ]
     },
     "metadata": {
      "needs_background": "light"
     },
     "output_type": "display_data"
    }
   ],
   "source": [
    "plt.figure(figsize=(8,5))\n",
    "plt.subplot(221)\n",
    "plt.scatter(pca_transformed[:len(g1.values()),0],pca_transformed[:len(g1.values()),1],label=\"Group 1\")\n",
    "plt.scatter(pca_transformed[len(g1.values()):,0],pca_transformed[len(g1.values()):,1],label=\"Group 2\")\n",
    "names = list(g.keys())\n",
    "for i in range(len(names)):\n",
    "    plt.annotate(names[i].upper(),pca_transformed[i])\n",
    "plt.title(\"Embeddings\")\n",
    "plt.legend()\n",
    "\n",
    "plt.subplot(222)\n",
    "plt.scatter(pca_transformed[:,0],pca_transformed[:,1],c=Smokes(var_x).tensor)\n",
    "plt.title(\"Smokes\")\n",
    "plt.colorbar()\n",
    "\n",
    "# plt.subplot(224)\n",
    "# plt.scatter(pca_transformed[:,0],pca_transformed[:,1],c=Cancer(var_x).tensor)\n",
    "# plt.title(\"Cancer\")\n",
    "# plt.colorbar()\n",
    "\n",
    "plt.subplot(223)\n",
    "plt.scatter(pca_transformed[:len(g1.values()),0],pca_transformed[:len(g1.values()),1],label=\"Group 1\")\n",
    "plt.scatter(pca_transformed[len(g1.values()):,0],pca_transformed[len(g1.values()):,1],label=\"Group 2\")\n",
    "res = Friends([var_x1,var_x2]).tensor.numpy()\n",
    "for i1 in range(len(x)):\n",
    "    for i2 in range(i1,len(x)):\n",
    "        if (names[i1] in g1 and names[i2] in g2) \\\n",
    "            or (names[i1] in g2 and names[i2] in g1):\n",
    "            continue\n",
    "        plt.plot(\n",
    "            [pca_transformed[i1,0],pca_transformed[i2,0]],\n",
    "            [pca_transformed[i1,1],pca_transformed[i2,1]],\n",
    "            alpha=res[i1,i2],c=\"black\")\n",
    "plt.title(\"Friendships per group\")\n",
    "plt.tight_layout()\n",
    "#plt.savefig(\"ex_smokes_embeddings.pdf\")"
   ]
  },
  {
   "cell_type": "code",
   "execution_count": null,
   "metadata": {},
   "outputs": [],
   "source": []
  }
 ],
 "metadata": {
  "interpreter": {
   "hash": "e4ccb0efa59417244fa4c3b009ecf208b78a23eccf7fe2b73b3e70fcb96685f6"
  },
  "kernelspec": {
   "display_name": "Python 3.9.6 64-bit ('tf-py39': conda)",
   "name": "python3"
  },
  "language_info": {
   "codemirror_mode": {
    "name": "ipython",
    "version": 3
   },
   "file_extension": ".py",
   "mimetype": "text/x-python",
   "name": "python",
   "nbconvert_exporter": "python",
   "pygments_lexer": "ipython3",
   "version": "3.9.2"
  }
 },
 "nbformat": 4,
 "nbformat_minor": 4
}
